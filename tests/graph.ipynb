{
 "cells": [
  {
   "cell_type": "code",
   "execution_count": null,
   "metadata": {},
   "outputs": [],
   "source": [
    "%%capture\n",
    "!pip install -r ../requirements.txt"
   ]
  },
  {
   "cell_type": "code",
   "execution_count": 40,
   "metadata": {},
   "outputs": [],
   "source": [
    "import sys\n",
    "import os\n",
    "parent_dir = os.path.abspath(os.path.join(os.getcwd(), \"..\"))\n",
    "# Add it to sys.path if not already there\n",
    "if parent_dir not in sys.path:\n",
    "    sys.path.append(parent_dir)"
   ]
  },
  {
   "cell_type": "code",
   "execution_count": 41,
   "metadata": {},
   "outputs": [
    {
     "data": {
      "text/plain": [
       "True"
      ]
     },
     "execution_count": 41,
     "metadata": {},
     "output_type": "execute_result"
    }
   ],
   "source": [
    "from dotenv import load_dotenv\n",
    "load_dotenv('../.env')"
   ]
  },
  {
   "cell_type": "code",
   "execution_count": 42,
   "metadata": {},
   "outputs": [],
   "source": [
    "from notion_client import Client\n",
    "from langchain_openai import ChatOpenAI\n",
    "from langchain.prompts import PromptTemplate\n",
    "from langchain.chains import LLMChain\n",
    "from twilio.rest import Client as TwilioClient\n",
    "from typing import TypedDict\n",
    "import os\n",
    "from tools.notion_fetch_agent_tools import fetch_latest_notion_journaling_entry\n",
    "from typing import TypedDict\n",
    "from langgraph.graph import END, StateGraph"
   ]
  },
  {
   "cell_type": "code",
   "execution_count": 43,
   "metadata": {},
   "outputs": [],
   "source": [
    "# TEMPLATE ENV VARIABLES\n",
    "GRAPH_ENTRY_QUERY = \"Send me bible scripture that will help me with how i want to grow from my latest journaling in Notion.\""
   ]
  },
  {
   "cell_type": "code",
   "execution_count": 44,
   "metadata": {},
   "outputs": [],
   "source": [
    "llm = ChatOpenAI(model=\"gpt-4o\")"
   ]
  },
  {
   "cell_type": "code",
   "execution_count": 156,
   "metadata": {},
   "outputs": [],
   "source": [
    "class State(TypedDict):\n",
    "    query: str\n",
    "    notion_data_action: str # TEMPLATE VAR\n",
    "    notion_next_node_instructions: str # TEMPLATE VAR\n",
    "    notion_journal_growth_summary: str # TEMPLATE VAR\n",
    "    message: str # TEMPLATE VAR"
   ]
  },
  {
   "cell_type": "markdown",
   "metadata": {},
   "source": [
    "## Agent 1 - Notion\n",
    "\n",
    "In each agent (agents/), we can have the this code as attributes/methods"
   ]
  },
  {
   "cell_type": "code",
   "execution_count": 126,
   "metadata": {},
   "outputs": [],
   "source": [
    "from langchain.agents import initialize_agent"
   ]
  },
  {
   "cell_type": "code",
   "execution_count": 127,
   "metadata": {},
   "outputs": [],
   "source": [
    "tools = [fetch_latest_notion_journaling_entry]"
   ]
  },
  {
   "cell_type": "code",
   "execution_count": 128,
   "metadata": {},
   "outputs": [],
   "source": [
    "notion_prompt_template = PromptTemplate(\n",
    "    input_variables=[\"notion_data_action\"],\n",
    "    template=\"You are an assistant responsible for simply making a call to the notion client API, and then doing the following instructions on the returned data: {notion_data_action}\"\n",
    ")"
   ]
  },
  {
   "cell_type": "code",
   "execution_count": 129,
   "metadata": {},
   "outputs": [],
   "source": [
    "notion_agent = initialize_agent(\n",
    "    tools=tools,\n",
    "    llm=llm,\n",
    "    handle_parsing_errors=True\n",
    ")"
   ]
  },
  {
   "cell_type": "code",
   "execution_count": 56,
   "metadata": {},
   "outputs": [],
   "source": [
    "result = notion_agent.invoke(notion_prompt_template.format(notion_data_action=\"From this journaling, extract out the ways the user desires to grow.\"))"
   ]
  },
  {
   "cell_type": "code",
   "execution_count": 57,
   "metadata": {},
   "outputs": [
    {
     "data": {
      "text/plain": [
       "{'input': '\\n    You are an assistant responsible for simply making a call to the notion client API,\\n    and then doing the following instructions on the returned data:\\n    From this journaling, extract out the ways the user desires to grow.\\n    ',\n",
       " 'output': 'The user desires to grow spiritually, as a leader, by embracing intrinsic motivation, strengthening relationships, maintaining joy and gratitude, and through personal accountability and a growth mindset.'}"
      ]
     },
     "execution_count": 57,
     "metadata": {},
     "output_type": "execute_result"
    }
   ],
   "source": [
    "result"
   ]
  },
  {
   "cell_type": "code",
   "execution_count": 157,
   "metadata": {},
   "outputs": [],
   "source": [
    "def notion_node(state: State) -> State:\n",
    "    notion_data_action = state.get(\"notion_data_action\")\n",
    "    \n",
    "    prompt = notion_prompt_template.format(notion_data_action=notion_data_action)\n",
    "    result = notion_agent.invoke(prompt)\n",
    "    return {\"notion_journal_growth_summary\": result.get('output')}"
   ]
  },
  {
   "cell_type": "markdown",
   "metadata": {},
   "source": [
    "## Agent 2 - Scripture (generation)"
   ]
  },
  {
   "cell_type": "code",
   "execution_count": 97,
   "metadata": {},
   "outputs": [],
   "source": [
    "generation_agent_instructions = \"\"\"\n",
    "You are a generalist assistant reponsible for performing a simple query. The \n",
    "instructions are:\n",
    "\n",
    "{instructions}\n",
    "\"\"\""
   ]
  },
  {
   "cell_type": "code",
   "execution_count": 98,
   "metadata": {},
   "outputs": [],
   "source": [
    "generation_agent_prompt_template = PromptTemplate(\n",
    "    # TEMPLATE VAR (output of notion node or other things)\n",
    "    input_variables=[\"instructions\"],\n",
    "    # TEMPLATE VAR\n",
    "    template=generation_agent_instructions\n",
    ")"
   ]
  },
  {
   "cell_type": "code",
   "execution_count": 82,
   "metadata": {},
   "outputs": [],
   "source": [
    "generation_agent_llm_chain = LLMChain(llm=llm, prompt=generation_agent_prompt_template)"
   ]
  },
  {
   "cell_type": "code",
   "execution_count": 77,
   "metadata": {},
   "outputs": [
    {
     "data": {
      "text/plain": [
       "'Philippians 4:13 (NIV): \"I can do all this through him who gives me strength.\" \\n\\nThis verse emphasizes intrinsic motivation, spiritual strength, and the empowerment needed for growth in various personal areas, including leadership and relationships.'"
      ]
     },
     "execution_count": 77,
     "metadata": {},
     "output_type": "execute_result"
    }
   ],
   "source": [
    "# Testing\n",
    "x = \"Based on this growth summary of a user's journal page, provide a single Bible scripture/verse that will help them with personal growth: {notion_journal_growth_summary}\"\n",
    "x = generation_agent_prompt_template.format(instructions=x).format(notion_journal_growth_summary=\"The user desires to grow spiritually, as a leader, by embracing intrinsic motivation, strengthening relationships, maintaining joy and gratitude, and through personal accountability and a growth mindset.\")\n",
    "generation_agent_llm_chain.run(x)"
   ]
  },
  {
   "cell_type": "code",
   "execution_count": 161,
   "metadata": {},
   "outputs": [],
   "source": [
    "def generation_node(state: State) -> State:\n",
    "    # Output from previous node\n",
    "    # TEMPLATE VAR\n",
    "    notion_journal_growth_summary = state.get(\"notion_journal_growth_summary\")\n",
    "    # TEMPLATE VAR\n",
    "    notion_next_node_instructions = state.get(\"notion_next_node_instructions\") + notion_journal_growth_summary\n",
    "    \n",
    "    prompt = generation_agent_prompt_template.format(instructions=notion_next_node_instructions)\n",
    "    output = generation_agent_llm_chain.run(prompt)\n",
    "\n",
    "    return {\"message\": output}"
   ]
  },
  {
   "cell_type": "markdown",
   "metadata": {},
   "source": [
    "## Agent 3 - Twilio"
   ]
  },
  {
   "cell_type": "code",
   "execution_count": 159,
   "metadata": {},
   "outputs": [],
   "source": [
    "from langchain.tools import tool\n",
    "\n",
    "TO_NUM = \"xyz\" # TEMPLATE VAR\n",
    "FROM_NUM = \"xyz\" # ENV VAR for the job (set on Twilio console)\n",
    "\n",
    "@tool\n",
    "def text_user(msg: str):\n",
    "    \"\"\"Tool to text the user via Twilio.\"\"\"\n",
    "    # account_sid = os.getenv(\"TWILIO_ACCOUNT_SID\") # TODO: get these\n",
    "    # auth_token = os.getenv(\"TWILIO_AUTH_TOKEN\")\n",
    "    # from_number = os.getenv(\"TWILIO_FROM_NUMBER\")\n",
    "    # client = Client(account_sid, auth_token)\n",
    "    # sms = client.messages.create(\n",
    "    #     body=msg,\n",
    "    #     from_=from_num,\n",
    "    #     to=to_num\n",
    "    # )\n",
    "    #return sms.sid\n",
    "    print(f\"Sent {msg}\")"
   ]
  },
  {
   "cell_type": "code",
   "execution_count": 160,
   "metadata": {},
   "outputs": [],
   "source": [
    "twilio_prompt_template = PromptTemplate(\n",
    "    # TEMPLATE VAR (output of notion node or other things)\n",
    "    input_variables=[\"message\"],\n",
    "    # TEMPLATE VAR\n",
    "    template=\"Your sole purpose is to send this text message to the user: \\\"{message}\\\"\"\n",
    ")"
   ]
  },
  {
   "cell_type": "code",
   "execution_count": 162,
   "metadata": {},
   "outputs": [],
   "source": [
    "tools = [text_user]\n",
    "twilio_agent = initialize_agent(\n",
    "    tools=tools,\n",
    "    llm=llm,\n",
    "    handle_parsing_errors=True\n",
    ")"
   ]
  },
  {
   "cell_type": "code",
   "execution_count": 163,
   "metadata": {},
   "outputs": [],
   "source": [
    "def twilio_node(state: State) -> State:\n",
    "    output = twilio_agent.invoke(twilio_prompt_template.format(message=state.get(\"message\")))\n",
    "    return {}"
   ]
  },
  {
   "cell_type": "markdown",
   "metadata": {},
   "source": [
    "## Graph"
   ]
  },
  {
   "cell_type": "code",
   "execution_count": 164,
   "metadata": {},
   "outputs": [],
   "source": [
    "# Initialize the graph with the state schema\n",
    "graph = StateGraph(State)\n",
    "\n",
    "# Add nodes\n",
    "# TEMPLATE VAR - We can loop through the nodes in the actual app\n",
    "graph.add_node(\"notion_node\", notion_node)\n",
    "graph.add_node(\"generation_node\", generation_node)\n",
    "graph.add_node(\"twilio_node\", twilio_node)\n",
    "\n",
    "# Set the entry point\n",
    "# TEMPLATE VAR\n",
    "graph.set_entry_point(\"notion_node\")\n",
    "\n",
    "# Define sequential edges\n",
    "# TEMPLATE VAR -Also loop through this\n",
    "graph.add_edge(\"notion_node\", \"generation_node\")\n",
    "\n",
    "graph.add_edge(\"generation_node\", END)\n",
    "graph.add_edge(\"generation_node\", \"twilio_node\")\n",
    "graph.add_edge(\"twilio_node\", END)\n",
    "\n",
    "compiled_graph = graph.compile()"
   ]
  },
  {
   "cell_type": "code",
   "execution_count": 165,
   "metadata": {},
   "outputs": [
    {
     "name": "stdout",
     "output_type": "stream",
     "text": [
      "Sent A fitting Bible verse that aligns with the user's desire for personal growth through intrinsic motivation, servant leadership, purposeful use of gifts, and fostering community driven by faith and vision is: 1 Peter 4:10 (NIV): 'Each of you should use whatever gift you have received to serve others, as faithful stewards of God's grace in its various forms.'\n",
      "Final state: {'query': 'Send me bible scripture that will help me with how i want to grow from my latest journaling in Notion.', 'notion_data_action': 'From this journaling, extract out the primary way the user desires to grow in his/her life.', 'notion_next_node_instructions': \"Based on this growth summary of a user's journal page, provide a single Bible scripture/verse that will help them with personal growth: \", 'notion_journal_growth_summary': 'The user desires to grow through intrinsic motivation, embracing servant leadership, using their gifts purposefully, and fostering community, driven by their faith and vision.', 'message': 'A fitting Bible verse that aligns with the user\\'s desire for personal growth through intrinsic motivation, servant leadership, purposeful use of gifts, and fostering community driven by faith and vision is:\\n\\n1 Peter 4:10 (NIV): \"Each of you should use whatever gift you have received to serve others, as faithful stewards of God\\'s grace in its various forms.\"'}\n"
     ]
    }
   ],
   "source": [
    "# This initial state is going to contain the injected variables from the orchestrator\n",
    "initial_state = {\n",
    "    \"query\": GRAPH_ENTRY_QUERY,\n",
    "    \"notion_data_action\": \"From this journaling, extract out the primary way the user desires to grow in his/her life.\",\n",
    "    \"notion_next_node_instructions\": \"Based on this growth summary of a user's journal page, provide a single Bible scripture/verse that will help them with personal growth: \"\n",
    "}\n",
    "try:\n",
    "    result = compiled_graph.invoke(initial_state)\n",
    "    print(\"Final state:\", result)\n",
    "except Exception as e:\n",
    "    print(f\"Graph-level error: {e}\")"
   ]
  }
 ],
 "metadata": {
  "kernelspec": {
   "display_name": "oai",
   "language": "python",
   "name": "python3"
  },
  "language_info": {
   "codemirror_mode": {
    "name": "ipython",
    "version": 3
   },
   "file_extension": ".py",
   "mimetype": "text/x-python",
   "name": "python",
   "nbconvert_exporter": "python",
   "pygments_lexer": "ipython3",
   "version": "3.12.9"
  }
 },
 "nbformat": 4,
 "nbformat_minor": 2
}
