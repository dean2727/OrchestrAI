{
 "cells": [
  {
   "cell_type": "code",
   "execution_count": 12,
   "metadata": {},
   "outputs": [],
   "source": [
    "%%capture\n",
    "!pip install -r ../requirements.txt"
   ]
  },
  {
   "cell_type": "code",
   "execution_count": 13,
   "metadata": {},
   "outputs": [],
   "source": [
    "import sys\n",
    "import os\n",
    "parent_dir = os.path.abspath(os.path.join(os.getcwd(), \"..\"))\n",
    "# Add it to sys.path if not already there\n",
    "if parent_dir not in sys.path:\n",
    "    sys.path.append(parent_dir)"
   ]
  },
  {
   "cell_type": "code",
   "execution_count": 14,
   "metadata": {},
   "outputs": [
    {
     "data": {
      "text/plain": [
       "True"
      ]
     },
     "execution_count": 14,
     "metadata": {},
     "output_type": "execute_result"
    }
   ],
   "source": [
    "from dotenv import load_dotenv\n",
    "load_dotenv('../.env')"
   ]
  },
  {
   "cell_type": "code",
   "execution_count": 15,
   "metadata": {},
   "outputs": [],
   "source": [
    "from notion_client import Client\n",
    "from langchain_openai import ChatOpenAI\n",
    "from langchain.prompts import PromptTemplate\n",
    "from langchain.chains import LLMChain\n",
    "from twilio.rest import Client as TwilioClient\n",
    "from typing import TypedDict\n",
    "import os\n",
    "from tools.notion_fetch_agent_tools import fetch_latest_notion_journaling_entry\n",
    "from typing import TypedDict\n",
    "from langgraph.graph import END, StateGraph"
   ]
  },
  {
   "cell_type": "code",
   "execution_count": 16,
   "metadata": {},
   "outputs": [],
   "source": [
    "# TEMPLATE ENV VARIABLES\n",
    "GRAPH_ENTRY_QUERY = \"Send me bible scripture that will help me with how i want to grow from my latest journaling in Notion.\""
   ]
  },
  {
   "cell_type": "code",
   "execution_count": 17,
   "metadata": {},
   "outputs": [],
   "source": [
    "llm = ChatOpenAI(model=\"gpt-4o\")"
   ]
  },
  {
   "cell_type": "code",
   "execution_count": 18,
   "metadata": {},
   "outputs": [],
   "source": [
    "class State(TypedDict):\n",
    "    query: str\n",
    "    notion_data_action: str # TEMPLATE VAR\n",
    "    notion_next_node_instructions: str # TEMPLATE VAR\n",
    "    notion_journal_growth_summary: str # TEMPLATE VAR\n",
    "    message: str # TEMPLATE VAR"
   ]
  },
  {
   "cell_type": "markdown",
   "metadata": {},
   "source": [
    "## Agent 1 - Notion\n",
    "\n",
    "In each agent (agents/), we can have the this code as attributes/methods"
   ]
  },
  {
   "cell_type": "code",
   "execution_count": 19,
   "metadata": {},
   "outputs": [],
   "source": [
    "from langchain.agents import initialize_agent"
   ]
  },
  {
   "cell_type": "code",
   "execution_count": 20,
   "metadata": {},
   "outputs": [],
   "source": [
    "tools = [fetch_latest_notion_journaling_entry]"
   ]
  },
  {
   "cell_type": "code",
   "execution_count": 21,
   "metadata": {},
   "outputs": [],
   "source": [
    "notion_prompt_template = PromptTemplate(\n",
    "    input_variables=[\"notion_data_action\"],\n",
    "    template=\"You are an assistant responsible for simply making a call to the notion client API, and then doing the following instructions on the returned data: {notion_data_action}\"\n",
    ")"
   ]
  },
  {
   "cell_type": "code",
   "execution_count": 22,
   "metadata": {},
   "outputs": [
    {
     "name": "stderr",
     "output_type": "stream",
     "text": [
      "/var/folders/1p/k8wcs51j0bndgtngv7p3gbsr0000gn/T/ipykernel_92160/1288154412.py:1: LangChainDeprecationWarning: LangChain agents will continue to be supported, but it is recommended for new use cases to be built with LangGraph. LangGraph offers a more flexible and full-featured framework for building agents, including support for tool-calling, persistence of state, and human-in-the-loop workflows. For details, refer to the `LangGraph documentation <https://langchain-ai.github.io/langgraph/>`_ as well as guides for `Migrating from AgentExecutor <https://python.langchain.com/docs/how_to/migrate_agent/>`_ and LangGraph's `Pre-built ReAct agent <https://langchain-ai.github.io/langgraph/how-tos/create-react-agent/>`_.\n",
      "  notion_agent = initialize_agent(\n"
     ]
    }
   ],
   "source": [
    "notion_agent = initialize_agent(\n",
    "    tools=tools,\n",
    "    llm=llm,\n",
    "    handle_parsing_errors=True\n",
    ")"
   ]
  },
  {
   "cell_type": "code",
   "execution_count": 23,
   "metadata": {},
   "outputs": [],
   "source": [
    "result = notion_agent.invoke(notion_prompt_template.format(notion_data_action=\"From this journaling, extract out the ways the user desires to grow.\"))"
   ]
  },
  {
   "cell_type": "code",
   "execution_count": 24,
   "metadata": {},
   "outputs": [
    {
     "data": {
      "text/plain": [
       "{'input': 'You are an assistant responsible for simply making a call to the notion client API, and then doing the following instructions on the returned data: From this journaling, extract out the ways the user desires to grow.',\n",
       " 'output': 'The user desires to grow in spiritual and personal development, leadership, intrinsic motivation, perseverance, meaningful relationships, and through gratitude and reflective practices.'}"
      ]
     },
     "execution_count": 24,
     "metadata": {},
     "output_type": "execute_result"
    }
   ],
   "source": [
    "result"
   ]
  },
  {
   "cell_type": "code",
   "execution_count": 25,
   "metadata": {},
   "outputs": [],
   "source": [
    "def notion_node(state: State) -> State:\n",
    "    notion_data_action = state.get(\"notion_data_action\")\n",
    "    \n",
    "    prompt = notion_prompt_template.format(notion_data_action=notion_data_action)\n",
    "    result = notion_agent.invoke(prompt)\n",
    "    return {\"notion_journal_growth_summary\": result.get('output')}"
   ]
  },
  {
   "cell_type": "markdown",
   "metadata": {},
   "source": [
    "## Agent 2 - Scripture (generation)"
   ]
  },
  {
   "cell_type": "code",
   "execution_count": 26,
   "metadata": {},
   "outputs": [],
   "source": [
    "generation_agent_instructions = \"\"\"\n",
    "You are a generalist assistant reponsible for performing a simple query. The \n",
    "instructions are:\n",
    "\n",
    "{instructions}\n",
    "\"\"\""
   ]
  },
  {
   "cell_type": "code",
   "execution_count": 27,
   "metadata": {},
   "outputs": [],
   "source": [
    "generation_agent_prompt_template = PromptTemplate(\n",
    "    # TEMPLATE VAR (output of notion node or other things)\n",
    "    input_variables=[\"instructions\"],\n",
    "    # TEMPLATE VAR\n",
    "    template=generation_agent_instructions\n",
    ")"
   ]
  },
  {
   "cell_type": "code",
   "execution_count": 28,
   "metadata": {},
   "outputs": [
    {
     "name": "stderr",
     "output_type": "stream",
     "text": [
      "/var/folders/1p/k8wcs51j0bndgtngv7p3gbsr0000gn/T/ipykernel_92160/2322471595.py:1: LangChainDeprecationWarning: The class `LLMChain` was deprecated in LangChain 0.1.17 and will be removed in 1.0. Use :meth:`~RunnableSequence, e.g., `prompt | llm`` instead.\n",
      "  generation_agent_llm_chain = LLMChain(llm=llm, prompt=generation_agent_prompt_template)\n"
     ]
    }
   ],
   "source": [
    "generation_agent_llm_chain = LLMChain(llm=llm, prompt=generation_agent_prompt_template)"
   ]
  },
  {
   "cell_type": "code",
   "execution_count": 29,
   "metadata": {},
   "outputs": [
    {
     "name": "stderr",
     "output_type": "stream",
     "text": [
      "/var/folders/1p/k8wcs51j0bndgtngv7p3gbsr0000gn/T/ipykernel_92160/3269216885.py:4: LangChainDeprecationWarning: The method `Chain.run` was deprecated in langchain 0.1.0 and will be removed in 1.0. Use :meth:`~invoke` instead.\n",
      "  generation_agent_llm_chain.run(x)\n"
     ]
    },
    {
     "data": {
      "text/plain": [
       "'A scripture that aligns well with your goals for personal growth is Philippians 4:13: \"I can do all things through Christ who strengthens me.\" This verse encourages intrinsic motivation and reliance on spiritual strength, which can bolster your leadership skills, reinforce your relationships, and support your pursuit of joy, gratitude, personal accountability, and a growth mindset.'"
      ]
     },
     "execution_count": 29,
     "metadata": {},
     "output_type": "execute_result"
    }
   ],
   "source": [
    "# Testing\n",
    "x = \"Based on this growth summary of a user's journal page, provide a single Bible scripture/verse that will help them with personal growth: {notion_journal_growth_summary}\"\n",
    "x = generation_agent_prompt_template.format(instructions=x).format(notion_journal_growth_summary=\"The user desires to grow spiritually, as a leader, by embracing intrinsic motivation, strengthening relationships, maintaining joy and gratitude, and through personal accountability and a growth mindset.\")\n",
    "generation_agent_llm_chain.run(x)"
   ]
  },
  {
   "cell_type": "code",
   "execution_count": 30,
   "metadata": {},
   "outputs": [],
   "source": [
    "def generation_node(state: State) -> State:\n",
    "    # Output from previous node\n",
    "    # TEMPLATE VAR\n",
    "    notion_journal_growth_summary = state.get(\"notion_journal_growth_summary\")\n",
    "    # TEMPLATE VAR\n",
    "    notion_next_node_instructions = state.get(\"notion_next_node_instructions\") + notion_journal_growth_summary\n",
    "    \n",
    "    prompt = generation_agent_prompt_template.format(instructions=notion_next_node_instructions)\n",
    "    output = generation_agent_llm_chain.run(prompt)\n",
    "\n",
    "    return {\"message\": output}"
   ]
  },
  {
   "cell_type": "markdown",
   "metadata": {},
   "source": [
    "## Agent 3 - Twilio"
   ]
  },
  {
   "cell_type": "code",
   "execution_count": 31,
   "metadata": {},
   "outputs": [],
   "source": [
    "from langchain.tools import tool\n",
    "\n",
    "TO_NUM = \"xyz\" # TEMPLATE VAR\n",
    "FROM_NUM = \"xyz\" # ENV VAR for the job (set on Twilio console)\n",
    "\n",
    "@tool\n",
    "def text_user(msg: str):\n",
    "    \"\"\"Tool to text the user via Twilio.\"\"\"\n",
    "    # account_sid = os.getenv(\"TWILIO_ACCOUNT_SID\") # TODO: get these\n",
    "    # auth_token = os.getenv(\"TWILIO_AUTH_TOKEN\")\n",
    "    # from_number = os.getenv(\"TWILIO_FROM_NUMBER\")\n",
    "    # client = Client(account_sid, auth_token)\n",
    "    # sms = client.messages.create(\n",
    "    #     body=msg,\n",
    "    #     from_=from_num,\n",
    "    #     to=to_num\n",
    "    # )\n",
    "    #return sms.sid\n",
    "    print(f\"Sent {msg}\")"
   ]
  },
  {
   "cell_type": "code",
   "execution_count": 32,
   "metadata": {},
   "outputs": [],
   "source": [
    "twilio_prompt_template = PromptTemplate(\n",
    "    # TEMPLATE VAR (output of notion node or other things)\n",
    "    input_variables=[\"message\"],\n",
    "    # TEMPLATE VAR\n",
    "    template=\"Your sole purpose is to send this text message to the user: \\\"{message}\\\"\"\n",
    ")"
   ]
  },
  {
   "cell_type": "code",
   "execution_count": 33,
   "metadata": {},
   "outputs": [],
   "source": [
    "tools = [text_user]\n",
    "twilio_agent = initialize_agent(\n",
    "    tools=tools,\n",
    "    llm=llm,\n",
    "    handle_parsing_errors=True\n",
    ")"
   ]
  },
  {
   "cell_type": "code",
   "execution_count": 34,
   "metadata": {},
   "outputs": [],
   "source": [
    "def twilio_node(state: State) -> State:\n",
    "    output = twilio_agent.invoke(twilio_prompt_template.format(message=state.get(\"message\")))\n",
    "    return {}"
   ]
  },
  {
   "cell_type": "markdown",
   "metadata": {},
   "source": [
    "## Agent 4 - Reasoning (with R1)"
   ]
  },
  {
   "cell_type": "code",
   "execution_count": 35,
   "metadata": {},
   "outputs": [],
   "source": [
    "from langchain_deepseek import ChatDeepSeek\n",
    "from langchain_core.prompts import PromptTemplate\n",
    "from langchain_core.output_parsers import StrOutputParser\n",
    "import os\n",
    "deepseek_api_key = os.getenv(\"DEEPSEEK_API_KEY\")"
   ]
  },
  {
   "cell_type": "code",
   "execution_count": 11,
   "metadata": {},
   "outputs": [
    {
     "name": "stdout",
     "output_type": "stream",
     "text": [
      "The capital of France is **Paris**. This city is renowned for its cultural landmarks, including the Eiffel Tower, the Louvre Museum, and Notre-Dame Cathedral. Paris has been the political and administrative center of France for centuries, housing key institutions like the French government, the President's residence (Élysée Palace), and the National Assembly.\n"
     ]
    }
   ],
   "source": [
    "# Initialize the ChatDeepSeek model\n",
    "llm = ChatDeepSeek(\n",
    "    model=\"deepseek-reasoner\",\n",
    "    temperature=0.7,\n",
    "    max_tokens=None,\n",
    "    timeout=None,\n",
    "    max_retries=2,\n",
    ")\n",
    "\n",
    "# Create a prompt template\n",
    "prompt = PromptTemplate(\n",
    "    input_variables=[\"instructions\"],\n",
    "    template=\"\"\"\n",
    "You are an agent with reasoning capabilities, reponsible for the following:\n",
    "\n",
    "{instructions}\n",
    "\"\"\"\n",
    ")\n",
    "\n",
    "# Create the chain using the runnables API (prompt | llm | parser)\n",
    "chain = prompt | llm | StrOutputParser()\n",
    "\n",
    "# Run the chain\n",
    "response = chain.invoke({\"instructions\": \"What is the capital of France?\"})\n",
    "print(response)"
   ]
  },
  {
   "cell_type": "code",
   "execution_count": 45,
   "metadata": {},
   "outputs": [],
   "source": [
    "def reasoning_node(state: State) -> State:\n",
    "    # Output from previous node\n",
    "    # TEMPLATE VAR\n",
    "    notion_journal_growth_summary = state.get(\"notion_journal_growth_summary\")\n",
    "    # TEMPLATE VAR\n",
    "    notion_next_node_instructions = state.get(\"notion_next_node_instructions\") + notion_journal_growth_summary\n",
    "\n",
    "    print(\"Reasoning...\")\n",
    "    response = chain.invoke({\"instructions\": notion_next_node_instructions})\n",
    "    return {\"message\": response}\n"
   ]
  },
  {
   "cell_type": "markdown",
   "metadata": {},
   "source": [
    "## Graph"
   ]
  },
  {
   "cell_type": "code",
   "execution_count": 46,
   "metadata": {},
   "outputs": [],
   "source": [
    "# Initialize the graph with the state schema\n",
    "graph = StateGraph(State)\n",
    "\n",
    "# Add nodes\n",
    "# TEMPLATE VAR - We can loop through the nodes in the actual app\n",
    "graph.add_node(\"notion_node\", notion_node)\n",
    "#graph.add_node(\"generation_node\", generation_node)\n",
    "graph.add_node(\"reasoning_node\", reasoning_node) # For simplicity, lets have a given AI job use either generation or reasoning, not both (hence, both set \"message\" attribute)\n",
    "graph.add_node(\"twilio_node\", twilio_node)\n",
    "\n",
    "# Set the entry point\n",
    "# TEMPLATE VAR\n",
    "graph.set_entry_point(\"notion_node\")\n",
    "\n",
    "# Define sequential edges\n",
    "# TEMPLATE VAR -Also loop through this\n",
    "graph.add_edge(\"notion_node\", \"reasoning_node\")\n",
    "graph.add_edge(\"reasoning_node\", \"twilio_node\")\n",
    "graph.add_edge(\"twilio_node\", END)\n",
    "\n",
    "compiled_graph = graph.compile()"
   ]
  },
  {
   "cell_type": "code",
   "execution_count": 47,
   "metadata": {},
   "outputs": [
    {
     "name": "stdout",
     "output_type": "stream",
     "text": [
      "Reasoning...\n",
      "Sent **Bible Verse:**  \\n*\\\"Each of you should use whatever gift you have received to serve others, as faithful stewards of God’s grace in its various forms.\\\"*  \\n**—1 Peter 4:10 (NIV)**  \\n\\n**Reasoning:**  \\n- **Servant Leadership & Using Gifts:** Directly emphasizes stewarding God-given gifts to serve others, aligning with servant leadership.  \\n- **Supportive Community:** Serving others fosters connection and communal support.  \\n- **Deepening Faith:** Calls believers to act as \\\"faithful stewards,\\\" anchoring service in trust and gratitude for God’s grace.  \\n- **Intrinsic Motivation & Perseverance:** Serving as a response to divine grace cultivates purpose-driven endurance, reinforcing perseverance rooted in faith rather than external rewards.  \\n\\nThis verse holistically addresses the user’s growth goals while grounding their journey in biblical stewardship and love.\n",
      "Final state: {'query': 'asdas', 'notion_data_action': 'From this journaling, extract out the primary way the user desires to grow in his/her life.', 'notion_next_node_instructions': \"Based on this growth summary of a user's journal page, provide a single Bible scripture/verse that will help them with personal growth: \", 'notion_journal_growth_summary': 'The user desires to grow by becoming a servant leader, utilizing their gifts to serve others, develop a supportive community, deepen their faith, and maintain intrinsic motivation and perseverance in their journey.', 'message': '**Bible Verse:**  \\n*\"Each of you should use whatever gift you have received to serve others, as faithful stewards of God’s grace in its various forms.\"*  \\n**—1 Peter 4:10 (NIV)**  \\n\\n**Reasoning:**  \\n- **Servant Leadership & Using Gifts:** Directly emphasizes stewarding God-given gifts to serve others, aligning with servant leadership.  \\n- **Supportive Community:** Serving others fosters connection and communal support.  \\n- **Deepening Faith:** Calls believers to act as \"faithful stewards,\" anchoring service in trust and gratitude for God’s grace.  \\n- **Intrinsic Motivation & Perseverance:** Serving as a response to divine grace cultivates purpose-driven endurance, reinforcing perseverance rooted in faith rather than external rewards.  \\n\\nThis verse holistically addresses the user’s growth goals while grounding their journey in biblical stewardship and love.'}\n"
     ]
    }
   ],
   "source": [
    "# This initial state is going to contain the injected variables from the orchestrator\n",
    "initial_state = {\n",
    "    \"query\": \"asdas\",\n",
    "    \"notion_data_action\": \"From this journaling, extract out the primary way the user desires to grow in his/her life.\",\n",
    "    \"notion_next_node_instructions\": \"Based on this growth summary of a user's journal page, provide a single Bible scripture/verse that will help them with personal growth: \"\n",
    "}\n",
    "try:\n",
    "    result = compiled_graph.invoke(initial_state)\n",
    "    print(\"Final state:\", result)\n",
    "except Exception as e:\n",
    "    print(f\"Graph-level error: {e}\")"
   ]
  }
 ],
 "metadata": {
  "kernelspec": {
   "display_name": "oai",
   "language": "python",
   "name": "python3"
  },
  "language_info": {
   "codemirror_mode": {
    "name": "ipython",
    "version": 3
   },
   "file_extension": ".py",
   "mimetype": "text/x-python",
   "name": "python",
   "nbconvert_exporter": "python",
   "pygments_lexer": "ipython3",
   "version": "3.12.9"
  }
 },
 "nbformat": 4,
 "nbformat_minor": 2
}
