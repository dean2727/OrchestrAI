{
 "cells": [
  {
   "cell_type": "code",
   "execution_count": null,
   "metadata": {},
   "outputs": [],
   "source": [
    "%%capture\n",
    "!pip install -r ../requirements.txt"
   ]
  },
  {
   "cell_type": "code",
   "execution_count": 1,
   "metadata": {},
   "outputs": [],
   "source": [
    "import sys\n",
    "import os\n",
    "parent_dir = os.path.abspath(os.path.join(os.getcwd(), \"..\"))\n",
    "# Add it to sys.path if not already there\n",
    "if parent_dir not in sys.path:\n",
    "    sys.path.append(parent_dir)"
   ]
  },
  {
   "cell_type": "code",
   "execution_count": 2,
   "metadata": {},
   "outputs": [
    {
     "data": {
      "text/plain": [
       "True"
      ]
     },
     "execution_count": 2,
     "metadata": {},
     "output_type": "execute_result"
    }
   ],
   "source": [
    "from dotenv import load_dotenv\n",
    "load_dotenv('../.env')"
   ]
  },
  {
   "cell_type": "code",
   "execution_count": 3,
   "metadata": {},
   "outputs": [],
   "source": [
    "from notion_client import Client\n",
    "from langchain_openai import ChatOpenAI\n",
    "from langchain.prompts import PromptTemplate\n",
    "from langchain.chains import LLMChain\n",
    "from twilio.rest import Client as TwilioClient\n",
    "from typing import TypedDict\n",
    "import os\n",
    "from tools.notion_fetch_agent_tools import fetch_latest_notion_journaling_entry\n",
    "from typing import TypedDict\n",
    "from langgraph.graph import END, StateGraph"
   ]
  },
  {
   "cell_type": "code",
   "execution_count": 43,
   "metadata": {},
   "outputs": [],
   "source": [
    "# TEMPLATE ENV VARIABLES\n",
    "GRAPH_ENTRY_QUERY = \"Send me bible scripture that will help me with how i want to grow from my latest journaling in Notion.\""
   ]
  },
  {
   "cell_type": "code",
   "execution_count": 4,
   "metadata": {},
   "outputs": [],
   "source": [
    "llm = ChatOpenAI(model=\"gpt-4o\")"
   ]
  },
  {
   "cell_type": "code",
   "execution_count": 5,
   "metadata": {},
   "outputs": [],
   "source": [
    "class State(TypedDict):\n",
    "    query: str\n",
    "    notion_data_action: str # TEMPLATE VAR\n",
    "    notion_next_node_instructions: str # TEMPLATE VAR\n",
    "    notion_journal_growth_summary: str # TEMPLATE VAR\n",
    "    message: str # TEMPLATE VAR"
   ]
  },
  {
   "cell_type": "markdown",
   "metadata": {},
   "source": [
    "## Agent 1 - Notion\n",
    "\n",
    "In each agent (agents/), we can have the this code as attributes/methods"
   ]
  },
  {
   "cell_type": "code",
   "execution_count": 6,
   "metadata": {},
   "outputs": [],
   "source": [
    "from langchain.agents import initialize_agent"
   ]
  },
  {
   "cell_type": "code",
   "execution_count": 7,
   "metadata": {},
   "outputs": [],
   "source": [
    "tools = [fetch_latest_notion_journaling_entry]"
   ]
  },
  {
   "cell_type": "code",
   "execution_count": 8,
   "metadata": {},
   "outputs": [],
   "source": [
    "notion_prompt_template = PromptTemplate(\n",
    "    input_variables=[\"notion_data_action\"],\n",
    "    template=\"You are an assistant responsible for simply making a call to the notion client API, and then doing the following instructions on the returned data: {notion_data_action}\"\n",
    ")"
   ]
  },
  {
   "cell_type": "code",
   "execution_count": 9,
   "metadata": {},
   "outputs": [
    {
     "name": "stderr",
     "output_type": "stream",
     "text": [
      "/var/folders/1p/k8wcs51j0bndgtngv7p3gbsr0000gn/T/ipykernel_79557/1288154412.py:1: LangChainDeprecationWarning: LangChain agents will continue to be supported, but it is recommended for new use cases to be built with LangGraph. LangGraph offers a more flexible and full-featured framework for building agents, including support for tool-calling, persistence of state, and human-in-the-loop workflows. For details, refer to the `LangGraph documentation <https://langchain-ai.github.io/langgraph/>`_ as well as guides for `Migrating from AgentExecutor <https://python.langchain.com/docs/how_to/migrate_agent/>`_ and LangGraph's `Pre-built ReAct agent <https://langchain-ai.github.io/langgraph/how-tos/create-react-agent/>`_.\n",
      "  notion_agent = initialize_agent(\n"
     ]
    }
   ],
   "source": [
    "notion_agent = initialize_agent(\n",
    "    tools=tools,\n",
    "    llm=llm,\n",
    "    handle_parsing_errors=True\n",
    ")"
   ]
  },
  {
   "cell_type": "code",
   "execution_count": 10,
   "metadata": {},
   "outputs": [],
   "source": [
    "result = notion_agent.invoke(notion_prompt_template.format(notion_data_action=\"From this journaling, extract out the ways the user desires to grow.\"))"
   ]
  },
  {
   "cell_type": "code",
   "execution_count": 11,
   "metadata": {},
   "outputs": [
    {
     "data": {
      "text/plain": [
       "{'input': 'You are an assistant responsible for simply making a call to the notion client API, and then doing the following instructions on the returned data: From this journaling, extract out the ways the user desires to grow.',\n",
       " 'output': \"The user's desires to grow include: \\n\\n1. Spiritual Growth and Community Building: The user wants to develop their spiritual life and be used by God, seeking community among mature, godly individuals, and considering leading a group outside of a traditional church setting.\\n\\n2. Leadership and Influence: The user aims to harness their leadership abilities to inspire and support others, starting small and potentially expanding into a large, influential community.\\n\\n3. Personal Development: They wish to understand their unique purpose, rooted in intrinsic motivation, while fostering a vision and passion for serving others.\\n\\n4. Perseverance and Resilience: The user acknowledges growth requires enduring challenges and developing character.\\n\\n5. Love and Relationships: They emphasize the importance of loving, supportive friendships and desire deeper bonds through understanding and patience.\\n\\n6. Joy and Gratitude: Engaging in joyful activities, such as worship, is crucial to the user's growth journey.\"}"
      ]
     },
     "execution_count": 11,
     "metadata": {},
     "output_type": "execute_result"
    }
   ],
   "source": [
    "result"
   ]
  },
  {
   "cell_type": "code",
   "execution_count": 12,
   "metadata": {},
   "outputs": [],
   "source": [
    "def notion_node(state: State) -> State:\n",
    "    notion_data_action = state.get(\"notion_data_action\")\n",
    "    \n",
    "    prompt = notion_prompt_template.format(notion_data_action=notion_data_action)\n",
    "    result = notion_agent.invoke(prompt)\n",
    "    return {\"notion_journal_growth_summary\": result.get('output')}"
   ]
  },
  {
   "cell_type": "markdown",
   "metadata": {},
   "source": [
    "## Agent 2 - Scripture (generation)"
   ]
  },
  {
   "cell_type": "code",
   "execution_count": 13,
   "metadata": {},
   "outputs": [],
   "source": [
    "generation_agent_instructions = \"\"\"\n",
    "You are a generalist assistant reponsible for performing a simple query. The \n",
    "instructions are:\n",
    "\n",
    "{instructions}\n",
    "\"\"\""
   ]
  },
  {
   "cell_type": "code",
   "execution_count": 14,
   "metadata": {},
   "outputs": [],
   "source": [
    "generation_agent_prompt_template = PromptTemplate(\n",
    "    # TEMPLATE VAR (output of notion node or other things)\n",
    "    input_variables=[\"instructions\"],\n",
    "    # TEMPLATE VAR\n",
    "    template=generation_agent_instructions\n",
    ")"
   ]
  },
  {
   "cell_type": "code",
   "execution_count": 15,
   "metadata": {},
   "outputs": [
    {
     "name": "stderr",
     "output_type": "stream",
     "text": [
      "/var/folders/1p/k8wcs51j0bndgtngv7p3gbsr0000gn/T/ipykernel_79557/2322471595.py:1: LangChainDeprecationWarning: The class `LLMChain` was deprecated in LangChain 0.1.17 and will be removed in 1.0. Use :meth:`~RunnableSequence, e.g., `prompt | llm`` instead.\n",
      "  generation_agent_llm_chain = LLMChain(llm=llm, prompt=generation_agent_prompt_template)\n"
     ]
    }
   ],
   "source": [
    "generation_agent_llm_chain = LLMChain(llm=llm, prompt=generation_agent_prompt_template)"
   ]
  },
  {
   "cell_type": "code",
   "execution_count": 16,
   "metadata": {},
   "outputs": [
    {
     "name": "stderr",
     "output_type": "stream",
     "text": [
      "/var/folders/1p/k8wcs51j0bndgtngv7p3gbsr0000gn/T/ipykernel_79557/3269216885.py:4: LangChainDeprecationWarning: The method `Chain.run` was deprecated in langchain 0.1.0 and will be removed in 1.0. Use :meth:`~invoke` instead.\n",
      "  generation_agent_llm_chain.run(x)\n"
     ]
    },
    {
     "data": {
      "text/plain": [
       "'A scripture that encompasses themes of spiritual growth, leadership, intrinsic motivation, strong relationships, joy, gratitude, personal accountability, and a growth mindset is Philippians 4:13: \\n\\n\"I can do all things through Christ who strengthens me.\" \\n\\nThis verse encourages reliance on spiritual strength, fostering leadership and motivation, and supports perseverance and personal growth.'"
      ]
     },
     "execution_count": 16,
     "metadata": {},
     "output_type": "execute_result"
    }
   ],
   "source": [
    "# Testing\n",
    "x = \"Based on this growth summary of a user's journal page, provide a single Bible scripture/verse that will help them with personal growth: {notion_journal_growth_summary}\"\n",
    "x = generation_agent_prompt_template.format(instructions=x).format(notion_journal_growth_summary=\"The user desires to grow spiritually, as a leader, by embracing intrinsic motivation, strengthening relationships, maintaining joy and gratitude, and through personal accountability and a growth mindset.\")\n",
    "generation_agent_llm_chain.run(x)"
   ]
  },
  {
   "cell_type": "code",
   "execution_count": 17,
   "metadata": {},
   "outputs": [],
   "source": [
    "def generation_node(state: State) -> State:\n",
    "    # Output from previous node\n",
    "    # TEMPLATE VAR\n",
    "    notion_journal_growth_summary = state.get(\"notion_journal_growth_summary\")\n",
    "    # TEMPLATE VAR\n",
    "    notion_next_node_instructions = state.get(\"notion_next_node_instructions\") + notion_journal_growth_summary\n",
    "    \n",
    "    prompt = generation_agent_prompt_template.format(instructions=notion_next_node_instructions)\n",
    "    output = generation_agent_llm_chain.run(prompt)\n",
    "\n",
    "    return {\"message\": output}"
   ]
  },
  {
   "cell_type": "markdown",
   "metadata": {},
   "source": [
    "## Agent 3 - Twilio"
   ]
  },
  {
   "cell_type": "code",
   "execution_count": 18,
   "metadata": {},
   "outputs": [],
   "source": [
    "from langchain.tools import tool\n",
    "\n",
    "TO_NUM = \"xyz\" # TEMPLATE VAR\n",
    "FROM_NUM = \"xyz\" # ENV VAR for the job (set on Twilio console)\n",
    "\n",
    "@tool\n",
    "def text_user(msg: str):\n",
    "    \"\"\"Tool to text the user via Twilio.\"\"\"\n",
    "    # account_sid = os.getenv(\"TWILIO_ACCOUNT_SID\") # TODO: get these\n",
    "    # auth_token = os.getenv(\"TWILIO_AUTH_TOKEN\")\n",
    "    # from_number = os.getenv(\"TWILIO_FROM_NUMBER\")\n",
    "    # client = Client(account_sid, auth_token)\n",
    "    # sms = client.messages.create(\n",
    "    #     body=msg,\n",
    "    #     from_=from_num,\n",
    "    #     to=to_num\n",
    "    # )\n",
    "    #return sms.sid\n",
    "    print(f\"Sent {msg}\")"
   ]
  },
  {
   "cell_type": "code",
   "execution_count": 19,
   "metadata": {},
   "outputs": [],
   "source": [
    "twilio_prompt_template = PromptTemplate(\n",
    "    # TEMPLATE VAR (output of notion node or other things)\n",
    "    input_variables=[\"message\"],\n",
    "    # TEMPLATE VAR\n",
    "    template=\"Your sole purpose is to send this text message to the user: \\\"{message}\\\"\"\n",
    ")"
   ]
  },
  {
   "cell_type": "code",
   "execution_count": 20,
   "metadata": {},
   "outputs": [],
   "source": [
    "tools = [text_user]\n",
    "twilio_agent = initialize_agent(\n",
    "    tools=tools,\n",
    "    llm=llm,\n",
    "    handle_parsing_errors=True\n",
    ")"
   ]
  },
  {
   "cell_type": "code",
   "execution_count": 21,
   "metadata": {},
   "outputs": [],
   "source": [
    "def twilio_node(state: State) -> State:\n",
    "    output = twilio_agent.invoke(twilio_prompt_template.format(message=state.get(\"message\")))\n",
    "    return {}"
   ]
  },
  {
   "cell_type": "markdown",
   "metadata": {},
   "source": [
    "## Graph"
   ]
  },
  {
   "cell_type": "code",
   "execution_count": 22,
   "metadata": {},
   "outputs": [],
   "source": [
    "# Initialize the graph with the state schema\n",
    "graph = StateGraph(State)\n",
    "\n",
    "# Add nodes\n",
    "# TEMPLATE VAR - We can loop through the nodes in the actual app\n",
    "graph.add_node(\"notion_node\", notion_node)\n",
    "graph.add_node(\"generation_node\", generation_node)\n",
    "graph.add_node(\"twilio_node\", twilio_node)\n",
    "\n",
    "# Set the entry point\n",
    "# TEMPLATE VAR\n",
    "graph.set_entry_point(\"notion_node\")\n",
    "\n",
    "# Define sequential edges\n",
    "# TEMPLATE VAR -Also loop through this\n",
    "graph.add_edge(\"notion_node\", \"generation_node\")\n",
    "\n",
    "graph.add_edge(\"generation_node\", END)\n",
    "graph.add_edge(\"generation_node\", \"twilio_node\")\n",
    "graph.add_edge(\"twilio_node\", END)\n",
    "\n",
    "compiled_graph = graph.compile()"
   ]
  },
  {
   "cell_type": "code",
   "execution_count": 24,
   "metadata": {},
   "outputs": [
    {
     "name": "stdout",
     "output_type": "stream",
     "text": [
      "Sent A Bible verse that aligns with the user's desire for personal growth in understanding their purpose, enhancing their faith, and exercising servant leadership is: Philippians 2:3-4 (NIV): 'Do nothing out of selfish ambition or vain conceit. Rather, in humility value others above yourselves, not looking to your own interests but each of you to the interests of the others.' This verse encourages humility, selflessness, and a focus on serving others, which aligns well with the goals of spiritual grounding and servant leadership.\n",
      "Final state: {'query': 'asdas', 'notion_data_action': 'From this journaling, extract out the primary way the user desires to grow in his/her life.', 'notion_next_node_instructions': \"Based on this growth summary of a user's journal page, provide a single Bible scripture/verse that will help them with personal growth: \", 'notion_journal_growth_summary': 'The user desires to grow by understanding his purpose, enhancing his faith, and exercising servant leadership to positively impact others, driven by intrinsic motivation and spiritual grounding.', 'message': 'A Bible verse that aligns with the user\\'s desire for personal growth in understanding their purpose, enhancing their faith, and exercising servant leadership is:\\n\\nPhilippians 2:3-4 (NIV): \"Do nothing out of selfish ambition or vain conceit. Rather, in humility value others above yourselves, not looking to your own interests but each of you to the interests of the others.\" \\n\\nThis verse encourages humility, selflessness, and a focus on serving others, which aligns well with the goals of spiritual grounding and servant leadership.'}\n"
     ]
    }
   ],
   "source": [
    "# This initial state is going to contain the injected variables from the orchestrator\n",
    "initial_state = {\n",
    "    \"query\": \"asdas\",\n",
    "    \"notion_data_action\": \"From this journaling, extract out the primary way the user desires to grow in his/her life.\",\n",
    "    \"notion_next_node_instructions\": \"Based on this growth summary of a user's journal page, provide a single Bible scripture/verse that will help them with personal growth: \"\n",
    "}\n",
    "try:\n",
    "    result = compiled_graph.invoke(initial_state)\n",
    "    print(\"Final state:\", result)\n",
    "except Exception as e:\n",
    "    print(f\"Graph-level error: {e}\")"
   ]
  }
 ],
 "metadata": {
  "kernelspec": {
   "display_name": "oai",
   "language": "python",
   "name": "python3"
  },
  "language_info": {
   "codemirror_mode": {
    "name": "ipython",
    "version": 3
   },
   "file_extension": ".py",
   "mimetype": "text/x-python",
   "name": "python",
   "nbconvert_exporter": "python",
   "pygments_lexer": "ipython3",
   "version": "3.12.9"
  }
 },
 "nbformat": 4,
 "nbformat_minor": 2
}
